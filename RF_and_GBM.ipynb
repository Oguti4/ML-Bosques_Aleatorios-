{
 "cells": [
  {
   "cell_type": "markdown",
   "metadata": {},
   "source": [
    "## Ensemble Learning / Combinación de Aprendizaje "
   ]
  },
  {
   "cell_type": "markdown",
   "metadata": {},
   "source": [
    "Desventajas de los árboles de decisión:\n",
    "\n",
    "* No son robustos: pequeños cambios en el conjunto de entrenamiento cambian significativamente el árbol lo que puede producir una predicción final diferente.\n",
    "\n",
    "* Susceptible a overfitting.\n",
    "\n",
    "<img src=\"Imagenes/rf1.png\" alt=\"drawing\" width=\"500\"/>>\n",
    "\n",
    "* Preferencia por fronteras de decisión ortogonales: susceptibles a rotaciones en los datos."
   ]
  },
  {
   "cell_type": "markdown",
   "metadata": {},
   "source": [
    "<img src=\"Imagenes/rf2.jpg\" alt=\"drawing\" width=\"500\"/>>"
   ]
  },
  {
   "cell_type": "markdown",
   "metadata": {},
   "source": [
    "¿Por qué a pesar de todas estas desventajas los árboles de decisión están de \"moda\"?\n",
    "\n",
    "* Ensemble Learning: proceso por el cual múltiples modelos son estratégicamente generados y combinados para resolver un problema.\n",
    "\n",
    "Ejemplo: resolver el problema de clasificación del Titanic (vive o muere) por medio de Regresión Logística, Bosque Aleatorio y SVM. La predicción final sería el promedio de las predicciones de los tres modelos.\n",
    "\n",
    "La idea detrás de esto es que, como los algoritmos aprenden de maneras diferentes, el promedio de sus predicciones condensará el aprendizaje de cada uno de ellos y, en teoría, la predicción promedio será mejor que la predicción de los modelos por separado (*wisdom of the crowd*).\n",
    "\n",
    "Random Forrest es un ensamble de árboles de decisión."
   ]
  },
  {
   "cell_type": "markdown",
   "metadata": {},
   "source": [
    "### Random Forrest\n",
    "\n",
    "A grandes rasgos Random Forrest opera de la siguiente manera:\n",
    "\n",
    "* Entrena un N número de árboles de decisión con muestreos aleatorios del training set.\n",
    "* Promedia la predicción de todos los árboles y el resultado es la predicción final del algoritmo. "
   ]
  },
  {
   "cell_type": "markdown",
   "metadata": {},
   "source": [
    "Cuando el muestreo se lleva acabo CON REMPLAZO recibe el nombre de bagging.\n",
    "\n",
    "<img src=\"Imagenes/rf4.jpg\" alt=\"drawing\" width=\"700\"/>\n",
    "\n",
    "Si el muestreo se lleva acabo SIN REMPLAZO recibe el nombre de pasting.\n",
    "\n",
    "Por último cabe señalar que no se entrena a cada árbol con TODAS las variables del dataset, sino con un conjunto aleatorio de ellas. Esto buscando tener el mayor número de clasificadores diferentes posibles."
   ]
  },
  {
   "cell_type": "markdown",
   "metadata": {},
   "source": [
    "Ventajas del algoritmo:\n",
    "\n",
    "* Puede usarse tanto para clasificación y regresión.\n",
    "\n",
    "* Puede visualizar la importancia relativa de variables.\n",
    "\n",
    "* Los hiperparámetros usados por defecto por lo general llevan a buenas predicciones.\n",
    "\n",
    "* Difícil que caigan en overfitting.\n",
    "\n",
    "\n",
    "No obstante, un gran número de árboles hacen al algoritmo lento e ineficiente para problemas de la vida real."
   ]
  },
  {
   "cell_type": "code",
   "execution_count": 1,
   "metadata": {},
   "outputs": [],
   "source": [
    "import pandas as pd\n",
    "import numpy as np\n",
    "import matplotlib.pyplot as plt\n",
    "from sklearn.ensemble import RandomForestClassifier"
   ]
  },
  {
   "cell_type": "code",
   "execution_count": 2,
   "metadata": {},
   "outputs": [],
   "source": [
    "# Datos del Titanic ya limpios\n",
    "\n",
    "train = pd.read_pickle('Datos/trainTitanic.pkl')\n",
    "test = pd.read_pickle('Datos/testTitanic.pkl')\n",
    "y_train = pd.read_pickle('Datos/y_trainTitanic.pkl')\n",
    "y_test = pd.read_pickle('Datos/y_testTitanic.pkl')"
   ]
  },
  {
   "cell_type": "code",
   "execution_count": 3,
   "metadata": {},
   "outputs": [
    {
     "data": {
      "text/html": [
       "<div>\n",
       "<style scoped>\n",
       "    .dataframe tbody tr th:only-of-type {\n",
       "        vertical-align: middle;\n",
       "    }\n",
       "\n",
       "    .dataframe tbody tr th {\n",
       "        vertical-align: top;\n",
       "    }\n",
       "\n",
       "    .dataframe thead th {\n",
       "        text-align: right;\n",
       "    }\n",
       "</style>\n",
       "<table border=\"1\" class=\"dataframe\">\n",
       "  <thead>\n",
       "    <tr style=\"text-align: right;\">\n",
       "      <th></th>\n",
       "      <th>Age</th>\n",
       "      <th>SibSp</th>\n",
       "      <th>Parch</th>\n",
       "      <th>Fare</th>\n",
       "      <th>FamilySize</th>\n",
       "      <th>Pclass_1</th>\n",
       "      <th>Pclass_2</th>\n",
       "      <th>Pclass_3</th>\n",
       "      <th>Sex_female</th>\n",
       "      <th>Sex_male</th>\n",
       "      <th>Embarked_C</th>\n",
       "      <th>Embarked_Q</th>\n",
       "      <th>Embarked_S</th>\n",
       "      <th>stages_of_life_Adult</th>\n",
       "      <th>stages_of_life_Children</th>\n",
       "      <th>Alone_0</th>\n",
       "      <th>Alone_1</th>\n",
       "    </tr>\n",
       "  </thead>\n",
       "  <tbody>\n",
       "    <tr>\n",
       "      <th>0</th>\n",
       "      <td>22.0</td>\n",
       "      <td>1</td>\n",
       "      <td>0</td>\n",
       "      <td>7.2500</td>\n",
       "      <td>2</td>\n",
       "      <td>0</td>\n",
       "      <td>0</td>\n",
       "      <td>1</td>\n",
       "      <td>0</td>\n",
       "      <td>1</td>\n",
       "      <td>0</td>\n",
       "      <td>0</td>\n",
       "      <td>1</td>\n",
       "      <td>1</td>\n",
       "      <td>0</td>\n",
       "      <td>0</td>\n",
       "      <td>1</td>\n",
       "    </tr>\n",
       "    <tr>\n",
       "      <th>1</th>\n",
       "      <td>38.0</td>\n",
       "      <td>1</td>\n",
       "      <td>0</td>\n",
       "      <td>71.2833</td>\n",
       "      <td>2</td>\n",
       "      <td>1</td>\n",
       "      <td>0</td>\n",
       "      <td>0</td>\n",
       "      <td>1</td>\n",
       "      <td>0</td>\n",
       "      <td>1</td>\n",
       "      <td>0</td>\n",
       "      <td>0</td>\n",
       "      <td>1</td>\n",
       "      <td>0</td>\n",
       "      <td>0</td>\n",
       "      <td>1</td>\n",
       "    </tr>\n",
       "    <tr>\n",
       "      <th>2</th>\n",
       "      <td>26.0</td>\n",
       "      <td>0</td>\n",
       "      <td>0</td>\n",
       "      <td>7.9250</td>\n",
       "      <td>1</td>\n",
       "      <td>0</td>\n",
       "      <td>0</td>\n",
       "      <td>1</td>\n",
       "      <td>1</td>\n",
       "      <td>0</td>\n",
       "      <td>0</td>\n",
       "      <td>0</td>\n",
       "      <td>1</td>\n",
       "      <td>1</td>\n",
       "      <td>0</td>\n",
       "      <td>1</td>\n",
       "      <td>0</td>\n",
       "    </tr>\n",
       "    <tr>\n",
       "      <th>3</th>\n",
       "      <td>35.0</td>\n",
       "      <td>1</td>\n",
       "      <td>0</td>\n",
       "      <td>53.1000</td>\n",
       "      <td>2</td>\n",
       "      <td>1</td>\n",
       "      <td>0</td>\n",
       "      <td>0</td>\n",
       "      <td>1</td>\n",
       "      <td>0</td>\n",
       "      <td>0</td>\n",
       "      <td>0</td>\n",
       "      <td>1</td>\n",
       "      <td>1</td>\n",
       "      <td>0</td>\n",
       "      <td>0</td>\n",
       "      <td>1</td>\n",
       "    </tr>\n",
       "    <tr>\n",
       "      <th>4</th>\n",
       "      <td>35.0</td>\n",
       "      <td>0</td>\n",
       "      <td>0</td>\n",
       "      <td>8.0500</td>\n",
       "      <td>1</td>\n",
       "      <td>0</td>\n",
       "      <td>0</td>\n",
       "      <td>1</td>\n",
       "      <td>0</td>\n",
       "      <td>1</td>\n",
       "      <td>0</td>\n",
       "      <td>0</td>\n",
       "      <td>1</td>\n",
       "      <td>1</td>\n",
       "      <td>0</td>\n",
       "      <td>1</td>\n",
       "      <td>0</td>\n",
       "    </tr>\n",
       "  </tbody>\n",
       "</table>\n",
       "</div>"
      ],
      "text/plain": [
       "    Age  SibSp  Parch     Fare  FamilySize  Pclass_1  Pclass_2  Pclass_3  \\\n",
       "0  22.0      1      0   7.2500           2         0         0         1   \n",
       "1  38.0      1      0  71.2833           2         1         0         0   \n",
       "2  26.0      0      0   7.9250           1         0         0         1   \n",
       "3  35.0      1      0  53.1000           2         1         0         0   \n",
       "4  35.0      0      0   8.0500           1         0         0         1   \n",
       "\n",
       "   Sex_female  Sex_male  Embarked_C  Embarked_Q  Embarked_S  \\\n",
       "0           0         1           0           0           1   \n",
       "1           1         0           1           0           0   \n",
       "2           1         0           0           0           1   \n",
       "3           1         0           0           0           1   \n",
       "4           0         1           0           0           1   \n",
       "\n",
       "   stages_of_life_Adult  stages_of_life_Children  Alone_0  Alone_1  \n",
       "0                     1                        0        0        1  \n",
       "1                     1                        0        0        1  \n",
       "2                     1                        0        1        0  \n",
       "3                     1                        0        0        1  \n",
       "4                     1                        0        1        0  "
      ]
     },
     "execution_count": 3,
     "metadata": {},
     "output_type": "execute_result"
    }
   ],
   "source": [
    "train.head()"
   ]
  },
  {
   "cell_type": "code",
   "execution_count": 4,
   "metadata": {},
   "outputs": [],
   "source": [
    "from sklearn.metrics import roc_auc_score, log_loss"
   ]
  },
  {
   "cell_type": "code",
   "execution_count": 5,
   "metadata": {},
   "outputs": [
    {
     "name": "stdout",
     "output_type": "stream",
     "text": [
      "iteracion: 1 numero de arboles: 100 error: 0.908\n",
      "iteracion: 2 numero de arboles: 200 error: 0.984\n",
      "iteracion: 3 numero de arboles: 300 error: 0.984\n",
      "iteracion: 4 numero de arboles: 400 error: 0.984\n",
      "iteracion: 5 numero de arboles: 500 error: 0.984\n",
      "iteracion: 6 numero de arboles: 600 error: 0.987\n",
      "iteracion: 7 numero de arboles: 700 error: 0.987\n",
      "iteracion: 8 numero de arboles: 800 error: 0.987\n",
      "iteracion: 9 numero de arboles: 900 error: 0.987\n"
     ]
    }
   ],
   "source": [
    "#Se define profundidad\n",
    "ND = 1\n",
    "max_depth = 2\n",
    "\n",
    "# tamaño grid ntrees\n",
    "NT = 9\n",
    "min_trees = 100\n",
    "max_trees = 900\n",
    "grid_tree = np.linspace(min_trees, max_trees, NT).astype('int')\n",
    "\n",
    "\n",
    "#matriz para guardar resultado de ecm\n",
    "error = np.zeros((NT))\n",
    "for j,ntrees in enumerate(grid_tree):\n",
    "    clf = RandomForestClassifier(n_estimators= ntrees, \n",
    "                                 max_depth = max_depth, random_state = 8)\n",
    "\n",
    "# hacer unestimación sobre train\n",
    "    clf.fit(train, y_train)\n",
    "# hagamos un predict: tst\n",
    "    score = roc_auc_score(y_test, clf.predict(test))\n",
    "# y guardemos\n",
    "    error[j] = score\n",
    "    print(\"iteracion:\",\n",
    "          j+1,\n",
    "          \"numero de arboles:\",\n",
    "          ntrees,\n",
    "          \"error:\", round(score,3))"
   ]
  },
  {
   "cell_type": "code",
   "execution_count": 6,
   "metadata": {},
   "outputs": [
    {
     "data": {
      "image/png": "[encoded data removed]",
      "text/plain": [
       "<Figure size 504x360 with 1 Axes>"
      ]
     },
     "metadata": {
      "needs_background": "light"
     },
     "output_type": "display_data"
    }
   ],
   "source": [
    "plt.figure(figsize=(7,5))\n",
    "plt.title('AUC Performance', fontsize = 15)\n",
    "plt.plot(np.linspace(min_trees, max_trees, NT), error)\n",
    "plt.xlabel('Número de Árboles', fontsize = 12)\n",
    "plt.ylabel('AUC', fontsize=12)\n",
    "plt.xticks(fontsize = 12)\n",
    "plt.yticks(fontsize = 12)\n",
    "plt.grid(True);"
   ]
  },
  {
   "cell_type": "code",
   "execution_count": 7,
   "metadata": {},
   "outputs": [
    {
     "name": "stdout",
     "output_type": "stream",
     "text": [
      "iteracion: 1 numero de arboles: 100 error: 2.314\n",
      "iteracion: 2 numero de arboles: 200 error: 0.413\n",
      "iteracion: 3 numero de arboles: 300 error: 0.413\n",
      "iteracion: 4 numero de arboles: 400 error: 0.413\n",
      "iteracion: 5 numero de arboles: 500 error: 0.413\n",
      "iteracion: 6 numero de arboles: 600 error: 0.331\n",
      "iteracion: 7 numero de arboles: 700 error: 0.331\n",
      "iteracion: 8 numero de arboles: 800 error: 0.331\n",
      "iteracion: 9 numero de arboles: 900 error: 0.331\n"
     ]
    }
   ],
   "source": [
    "#Se define profundidad\n",
    "ND = 1\n",
    "max_depth = 2\n",
    "\n",
    "# tamaño grid ntrees\n",
    "NT = 9\n",
    "min_trees = 100\n",
    "max_trees = 900\n",
    "grid_tree = np.linspace(min_trees, max_trees, NT).astype('int')\n",
    "\n",
    "#matriz para guardar resultado de ecm\n",
    "error = np.zeros((NT))\n",
    "for j,ntrees in enumerate(grid_tree):\n",
    "    clf = RandomForestClassifier(n_estimators= ntrees,\n",
    "                                 max_depth = max_depth,\n",
    "                                random_state = 8)\n",
    "\n",
    "# hacer unestimación sobre train\n",
    "    clf.fit(train, y_train)\n",
    "# hagamos un predict: tst\n",
    "    score = log_loss(y_test, clf.predict(test))\n",
    "# y guardemos\n",
    "    error[j] = score\n",
    "    print(\"iteracion:\",\n",
    "          j+1,\n",
    "          \"numero de arboles:\",\n",
    "          ntrees,\n",
    "          \"error:\",\n",
    "          round(score,3))\n"
   ]
  },
  {
   "cell_type": "code",
   "execution_count": 8,
   "metadata": {},
   "outputs": [
    {
     "data": {
      "image/png": "[encoded data removed]",
      "text/plain": [
       "<Figure size 504x360 with 1 Axes>"
      ]
     },
     "metadata": {
      "needs_background": "light"
     },
     "output_type": "display_data"
    }
   ],
   "source": [
    "plt.figure(figsize=(7,5))\n",
    "plt.title('Log Loss Performance', fontsize = 15)\n",
    "plt.plot(np.linspace(min_trees, max_trees, NT), error)\n",
    "plt.xlabel('Número de Árboles', fontsize = 12)\n",
    "plt.ylabel('Log Loss', fontsize=12)\n",
    "plt.xticks(fontsize = 12)\n",
    "plt.yticks(fontsize = 12)\n",
    "plt.grid(True);"
   ]
  },
  {
   "cell_type": "code",
   "execution_count": 9,
   "metadata": {},
   "outputs": [
    {
     "name": "stdout",
     "output_type": "stream",
     "text": [
      "it: 1 arboles: 100 profundidad: 1 error: 0.967\n",
      "it: 2 arboles: 200 profundidad: 1 error: 0.921\n",
      "it: 3 arboles: 300 profundidad: 1 error: 0.921\n",
      "it: 4 arboles: 400 profundidad: 1 error: 0.862\n",
      "it: 5 arboles: 500 profundidad: 1 error: 0.862\n",
      "it: 6 arboles: 600 profundidad: 1 error: 0.862\n",
      "it: 7 arboles: 700 profundidad: 1 error: 0.868\n",
      "it: 8 arboles: 800 profundidad: 1 error: 0.872\n",
      "it: 9 arboles: 900 profundidad: 1 error: 0.878\n",
      "it: 1 arboles: 100 profundidad: 2 error: 0.908\n",
      "it: 2 arboles: 200 profundidad: 2 error: 0.984\n",
      "it: 3 arboles: 300 profundidad: 2 error: 0.984\n",
      "it: 4 arboles: 400 profundidad: 2 error: 0.984\n",
      "it: 5 arboles: 500 profundidad: 2 error: 0.984\n",
      "it: 6 arboles: 600 profundidad: 2 error: 0.987\n",
      "it: 7 arboles: 700 profundidad: 2 error: 0.987\n",
      "it: 8 arboles: 800 profundidad: 2 error: 0.987\n",
      "it: 9 arboles: 900 profundidad: 2 error: 0.987\n",
      "it: 1 arboles: 100 profundidad: 3 error: 0.98\n",
      "it: 2 arboles: 200 profundidad: 3 error: 0.98\n",
      "it: 3 arboles: 300 profundidad: 3 error: 0.982\n",
      "it: 4 arboles: 400 profundidad: 3 error: 0.982\n",
      "it: 5 arboles: 500 profundidad: 3 error: 0.982\n",
      "it: 6 arboles: 600 profundidad: 3 error: 0.982\n",
      "it: 7 arboles: 700 profundidad: 3 error: 0.982\n",
      "it: 8 arboles: 800 profundidad: 3 error: 0.98\n",
      "it: 9 arboles: 900 profundidad: 3 error: 0.982\n",
      "it: 1 arboles: 100 profundidad: 4 error: 0.97\n",
      "it: 2 arboles: 200 profundidad: 4 error: 0.97\n",
      "it: 3 arboles: 300 profundidad: 4 error: 0.97\n",
      "it: 4 arboles: 400 profundidad: 4 error: 0.965\n",
      "it: 5 arboles: 500 profundidad: 4 error: 0.969\n",
      "it: 6 arboles: 600 profundidad: 4 error: 0.965\n",
      "it: 7 arboles: 700 profundidad: 4 error: 0.965\n",
      "it: 8 arboles: 800 profundidad: 4 error: 0.965\n",
      "it: 9 arboles: 900 profundidad: 4 error: 0.97\n"
     ]
    }
   ],
   "source": [
    "#Tamaño grid depth\n",
    "ND = 4\n",
    "min_depth = 1\n",
    "max_depth = 4\n",
    "grid_depth = np.linspace(min_depth,max_depth,ND).astype('int')\n",
    "# tamaño grid ntrees\n",
    "NT = 9\n",
    "min_trees = 100\n",
    "max_trees = 900\n",
    "grid_tree = np.linspace(min_trees, max_trees, NT).astype('int')\n",
    "\n",
    "error = np.zeros((ND,NT))\n",
    "\n",
    "for i, max_depth in enumerate(grid_depth):\n",
    "    for j,ntrees in enumerate(grid_tree):\n",
    "        clf = RandomForestClassifier(n_estimators= ntrees,\n",
    "                                     max_depth = max_depth,\n",
    "                                    random_state = 8)\n",
    "\n",
    "# hacer unestimación sobre train\n",
    "        clf.fit(train, y_train)\n",
    "    # hagamos un predict: tst\n",
    "        score = roc_auc_score(y_test, clf.predict(test))\n",
    "    # y guardemos\n",
    "        error[i,j] = score\n",
    "        print(\"it:\",\n",
    "              j+1,\n",
    "              \"arboles:\",\n",
    "              ntrees,\n",
    "              \"profundidad:\",\n",
    "              max_depth,\n",
    "              \"error:\",\n",
    "              round(score,3))"
   ]
  },
  {
   "cell_type": "code",
   "execution_count": 10,
   "metadata": {},
   "outputs": [
    {
     "data": {
      "text/plain": [
       "<AxesSubplot:>"
      ]
     },
     "execution_count": 10,
     "metadata": {},
     "output_type": "execute_result"
    },
    {
     "data": {
      "image/png": "[encoded data removed]",
      "text/plain": [
       "<Figure size 432x288 with 2 Axes>"
      ]
     },
     "metadata": {
      "needs_background": "light"
     },
     "output_type": "display_data"
    }
   ],
   "source": [
    "import seaborn as sns\n",
    "sns.heatmap(error, cmap ='jet')"
   ]
  },
  {
   "cell_type": "code",
   "execution_count": 11,
   "metadata": {},
   "outputs": [
    {
     "data": {
      "text/plain": [
       "RandomForestClassifier(max_depth=2, n_estimators=600, random_state=8)"
      ]
     },
     "execution_count": 11,
     "metadata": {},
     "output_type": "execute_result"
    }
   ],
   "source": [
    "clf = RandomForestClassifier(n_estimators= 600, \n",
    "                                 max_depth = 2, \n",
    "                             random_state = 8)\n",
    "clf.fit(train, y_train)"
   ]
  },
  {
   "cell_type": "code",
   "execution_count": 12,
   "metadata": {},
   "outputs": [],
   "source": [
    "x = train.columns"
   ]
  },
  {
   "cell_type": "code",
   "execution_count": 13,
   "metadata": {},
   "outputs": [
    {
     "data": {
      "image/png": "[encoded data removed]",
      "text/plain": [
       "<Figure size 432x504 with 1 Axes>"
      ]
     },
     "metadata": {
      "needs_background": "light"
     },
     "output_type": "display_data"
    }
   ],
   "source": [
    "#DF de variables mas importantes\n",
    "f_imp = pd.DataFrame(clf.feature_importances_,\n",
    "                     index=x, columns=['imp'])\n",
    "#calculo de importancia relativa\n",
    "f_imp['imp_rel'] = (f_imp/f_imp.max()*100)\n",
    "#plot de importancia de variables\n",
    "f_imp.sort_values('imp_rel',ascending=True).imp_rel.plot.barh(figsize=(6,7),\n",
    "                                                              title='Importancia de Variables',color='magenta')\n",
    "plt.xlabel('Importancia relativa');\n"
   ]
  },
  {
   "cell_type": "markdown",
   "metadata": {},
   "source": [
    "### Se encuentra que la variable de mayor importancia para sobrevivir en el Titanic era el sexo de la persona, seguido de la clase en el pase."
   ]
  },
  {
   "cell_type": "code",
   "execution_count": null,
   "metadata": {},
   "outputs": [],
   "source": []
  }
 ],
 "metadata": {
  "kernelspec": {
   "display_name": "Python 3",
   "language": "python",
   "name": "python3"
  },
  "language_info": {
   "codemirror_mode": {
    "name": "ipython",
    "version": 3
   },
   "file_extension": ".py",
   "mimetype": "text/x-python",
   "name": "python",
   "nbconvert_exporter": "python",
   "pygments_lexer": "ipython3",
   "version": "3.8.8"
  }
 },
 "nbformat": 4,
 "nbformat_minor": 2
}
